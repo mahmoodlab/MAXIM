{
 "cells": [
  {
   "cell_type": "markdown",
   "source": [
    "# Experiments"
   ],
   "metadata": {
    "collapsed": false
   }
  },
  {
   "cell_type": "markdown",
   "source": [
    "This notebook book provide code snippets to train different marker imputation models presented in the paper."
   ],
   "metadata": {
    "collapsed": false
   }
  },
  {
   "cell_type": "code",
   "execution_count": 1,
   "outputs": [],
   "source": [
    "import os\n",
    "\n",
    "# Set CUDA_VISIBLE_DEVICES environment variable to control GPU visibility\n",
    "os.environ[\"CUDA_VISIBLE_DEVICES\"] = \"0\"\n",
    "\n",
    "from maxim import Trainer\n",
    "from maxim import TrainerCGAN\n"
   ],
   "metadata": {
    "collapsed": false,
    "ExecuteTime": {
     "end_time": "2023-07-14T15:08:21.179700614Z",
     "start_time": "2023-07-14T15:08:19.313443227Z"
    }
   }
  },
  {
   "cell_type": "markdown",
   "source": [
    "## MAXIM - KI67"
   ],
   "metadata": {
    "collapsed": false
   }
  },
  {
   "cell_type": "code",
   "execution_count": 2,
   "outputs": [],
   "source": [
    "marker_panel = ['DAPI', 'FOXP3', 'CD4', 'CD8', 'PDL1', 'KI67', 'CK']\n",
    "input_markers = ['DAPI', 'FOXP3', 'CD4', 'CD8', 'PDL1', 'CK']\n",
    "output_markers = ['KI67']\n",
    "\n",
    "train_valid_data_csv_path = 'train_valid.csv'\n",
    "test_data_csv_path = 'test_images.csv'\n",
    "results_dir = 'KI67'\n",
    "\n",
    "# Create an instance of the Trainer class\n",
    "obj = Trainer(marker_panel=marker_panel, input_markers=input_markers, output_markers=output_markers, results_dir=results_dir, lr=0.002, seed=1)\n",
    "obj.train(train_valid_data_csv_path, percent=100, img_size=256, batch_size=64, num_workers=4, max_epochs=2, minimum_epochs=1, patience=1)\n",
    "obj.eval(test_data_csv_path, split_name='test', img_size=2048, batch_size=64, num_workers=4)"
   ],
   "metadata": {
    "collapsed": false,
    "ExecuteTime": {
     "end_time": "2023-07-14T15:08:21.246187261Z",
     "start_time": "2023-07-14T15:08:21.242589818Z"
    }
   }
  },
  {
   "cell_type": "markdown",
   "source": [
    "## MAXIM - KI67 (CGAN)"
   ],
   "metadata": {
    "collapsed": false
   }
  },
  {
   "cell_type": "code",
   "execution_count": null,
   "outputs": [],
   "source": [
    "marker_panel = ['DAPI', 'FOXP3', 'CD4', 'CD8', 'PDL1', 'KI67', 'CK']\n",
    "input_markers = ['DAPI', 'FOXP3', 'CD4', 'CD8', 'PDL1', 'CK']\n",
    "output_markers = ['KI67']\n",
    "\n",
    "train_valid_data_csv_path = 'train_valid.csv'\n",
    "test_data_csv_path = 'test_images.csv'\n",
    "results_dir = 'KI67'\n",
    "\n",
    "# Create an instance of the Trainer class\n",
    "obj = TrainerCGAN(marker_panel=marker_panel, input_markers=input_markers, output_markers=output_markers, results_dir=results_dir, lr=0.002, seed=1)\n",
    "obj.train(train_valid_data_csv_path, percent=100, img_size=256, batch_size=64, num_workers=4, max_epochs=2, minimum_epochs=1, patience=1)\n",
    "obj.eval(test_data_csv_path, split_name='test', img_size=2048, batch_size=64, num_workers=4)"
   ],
   "metadata": {
    "collapsed": false
   }
  },
  {
   "cell_type": "markdown",
   "source": [
    "## MAXIM - FOXP3"
   ],
   "metadata": {
    "collapsed": false
   }
  },
  {
   "cell_type": "code",
   "execution_count": null,
   "outputs": [],
   "source": [
    "marker_panel = ['DAPI', 'FOXP3', 'CD4', 'CD8', 'PDL1', 'KI67', 'CK']\n",
    "input_markers = ['DAPI', 'CD4', 'CD8', 'PDL1', 'KI67', 'CK']\n",
    "output_markers = ['FOXP3']\n",
    "\n",
    "train_valid_data_csv_path = 'train_valid.csv'\n",
    "test_data_csv_path = 'test_images.csv'\n",
    "results_dir = 'FOXP3'\n",
    "\n",
    "# Create an instance of the Trainer class\n",
    "obj = Trainer(marker_panel=marker_panel, input_markers=input_markers, output_markers=output_markers, results_dir=results_dir, lr=0.002, seed=1)\n",
    "obj.train(train_valid_data_csv_path, percent=100, img_size=256, batch_size=64, num_workers=4, max_epochs=2, minimum_epochs=1, patience=1)\n",
    "obj.eval(test_data_csv_path, split_name='test', img_size=2048, batch_size=64, num_workers=4)"
   ],
   "metadata": {
    "collapsed": false
   }
  },
  {
   "cell_type": "markdown",
   "source": [
    "## MAXIM - PDL1"
   ],
   "metadata": {
    "collapsed": false
   }
  },
  {
   "cell_type": "code",
   "execution_count": null,
   "outputs": [],
   "source": [
    "marker_panel = ['DAPI', 'FOXP3', 'CD4', 'CD8', 'PDL1', 'KI67', 'CK']\n",
    "input_markers = ['DAPI', 'FOXP3', 'CD4', 'CD8', 'KI67', 'CK']\n",
    "output_markers = ['PDL1']\n",
    "\n",
    "train_valid_data_csv_path = 'train_valid.csv'\n",
    "test_data_csv_path = 'test_images.csv'\n",
    "results_dir = 'PDL1'\n",
    "\n",
    "# Create an instance of the Trainer class\n",
    "obj = Trainer(marker_panel=marker_panel, input_markers=input_markers, output_markers=output_markers, results_dir=results_dir, lr=0.002, seed=1)\n",
    "obj.train(train_valid_data_csv_path, percent=100, img_size=256, batch_size=64, num_workers=4, max_epochs=2, minimum_epochs=1, patience=1)\n",
    "obj.eval(test_data_csv_path, split_name='test', img_size=2048, batch_size=64, num_workers=4)"
   ],
   "metadata": {
    "collapsed": false
   }
  },
  {
   "cell_type": "markdown",
   "source": [
    "## MAXIM - CK"
   ],
   "metadata": {
    "collapsed": false
   }
  },
  {
   "cell_type": "code",
   "execution_count": null,
   "outputs": [],
   "source": [
    "marker_panel = ['DAPI', 'FOXP3', 'CD4', 'CD8', 'PDL1', 'KI67', 'CK']\n",
    "input_markers = ['DAPI', 'FOXP3', 'CD4', 'CD8', 'PDL1', 'KI67']\n",
    "output_markers = ['CK']\n",
    "\n",
    "train_valid_data_csv_path = 'train_valid.csv'\n",
    "test_data_csv_path = 'test_images.csv'\n",
    "results_dir = 'CK'\n",
    "\n",
    "# Create an instance of the Trainer class\n",
    "obj = Trainer(marker_panel=marker_panel, input_markers=input_markers, output_markers=output_markers, results_dir=results_dir, lr=0.002, seed=1)\n",
    "obj.train(train_valid_data_csv_path, percent=100, img_size=256, batch_size=64, num_workers=4, max_epochs=2, minimum_epochs=1, patience=1)\n",
    "obj.eval(test_data_csv_path, split_name='test', img_size=2048, batch_size=64, num_workers=4)"
   ],
   "metadata": {
    "collapsed": false
   }
  },
  {
   "cell_type": "markdown",
   "source": [
    "## MAXIM - CD4"
   ],
   "metadata": {
    "collapsed": false
   }
  },
  {
   "cell_type": "code",
   "execution_count": null,
   "outputs": [],
   "source": [
    "marker_panel = ['DAPI', 'FOXP3', 'CD4', 'CD8', 'PDL1', 'KI67', 'CK']\n",
    "input_markers = ['DAPI', 'FOXP3', 'CD8', 'PDL1', 'KI67', 'CK']\n",
    "output_markers = ['CD4']\n",
    "\n",
    "train_valid_data_csv_path = 'train_valid.csv'\n",
    "test_data_csv_path = 'test_images.csv'\n",
    "results_dir = 'CD4'\n",
    "\n",
    "# Create an instance of the Trainer class\n",
    "obj = Trainer(marker_panel=marker_panel, input_markers=input_markers, output_markers=output_markers, results_dir=results_dir, lr=0.002, seed=1)\n",
    "obj.train(train_valid_data_csv_path, percent=100, img_size=256, batch_size=64, num_workers=4, max_epochs=2, minimum_epochs=1, patience=1)\n",
    "obj.eval(test_data_csv_path, split_name='test', img_size=2048, batch_size=64, num_workers=4)"
   ],
   "metadata": {
    "collapsed": false
   }
  },
  {
   "cell_type": "markdown",
   "source": [
    "## MAXIM - CD8"
   ],
   "metadata": {
    "collapsed": false
   }
  },
  {
   "cell_type": "code",
   "execution_count": null,
   "outputs": [],
   "source": [
    "marker_panel = ['DAPI', 'FOXP3', 'CD4', 'CD8', 'PDL1', 'KI67', 'CK']\n",
    "input_markers = ['DAPI', 'FOXP3', 'CD4', 'PDL1', 'KI67', 'CK']\n",
    "output_markers = ['CD8']\n",
    "\n",
    "train_valid_data_csv_path = 'train_valid.csv'\n",
    "test_data_csv_path = 'test_images.csv'\n",
    "results_dir = 'CD8'\n",
    "\n",
    "# Create an instance of the Trainer class\n",
    "obj = Trainer(marker_panel=marker_panel, input_markers=input_markers, output_markers=output_markers, results_dir=results_dir, lr=0.002, seed=1)\n",
    "obj.train(train_valid_data_csv_path, percent=100, img_size=256, batch_size=64, num_workers=4, max_epochs=2, minimum_epochs=1, patience=1)\n",
    "obj.eval(test_data_csv_path, split_name='test', img_size=2048, batch_size=64, num_workers=4)"
   ],
   "metadata": {
    "collapsed": false
   }
  },
  {
   "cell_type": "markdown",
   "source": [
    "## MAXIM - DAPI"
   ],
   "metadata": {
    "collapsed": false
   }
  },
  {
   "cell_type": "code",
   "execution_count": null,
   "outputs": [],
   "source": [
    "marker_panel = ['DAPI', 'FOXP3', 'CD4', 'CD8', 'PDL1', 'KI67', 'CK']\n",
    "input_markers = ['FOXP3', 'CD4', 'CD8', 'PDL1', 'KI67', 'CK']\n",
    "output_markers = ['DAPI']\n",
    "\n",
    "train_valid_data_csv_path = 'train_valid.csv'\n",
    "test_data_csv_path = 'test_images.csv'\n",
    "results_dir = 'DAPI'\n",
    "\n",
    "# Create an instance of the Trainer class\n",
    "obj = Trainer(marker_panel=marker_panel, input_markers=input_markers, output_markers=output_markers, results_dir=results_dir, lr=0.002, seed=1)\n",
    "obj.train(train_valid_data_csv_path, percent=100, img_size=256, batch_size=64, num_workers=4, max_epochs=2, minimum_epochs=1, patience=1)\n",
    "obj.eval(test_data_csv_path, split_name='test', img_size=2048, batch_size=64, num_workers=4)"
   ],
   "metadata": {
    "collapsed": false
   }
  },
  {
   "cell_type": "markdown",
   "source": [
    "## MAXIM - KI67 - CK"
   ],
   "metadata": {
    "collapsed": false
   }
  },
  {
   "cell_type": "code",
   "execution_count": null,
   "outputs": [],
   "source": [
    "marker_panel = ['DAPI', 'FOXP3', 'CD4', 'CD8', 'PDL1', 'KI67', 'CK']\n",
    "input_markers = ['DAPI', 'FOXP3', 'CD4', 'CD8', 'PDL1']\n",
    "output_markers = ['KI67']\n",
    "\n",
    "train_valid_data_csv_path = 'train_valid.csv'\n",
    "test_data_csv_path = 'test_images.csv'\n",
    "results_dir = 'KI67 - CK'\n",
    "\n",
    "# Create an instance of the Trainer class\n",
    "obj = Trainer(marker_panel=marker_panel, input_markers=input_markers, output_markers=output_markers, results_dir=results_dir, lr=0.002, seed=1)\n",
    "obj.train(train_valid_data_csv_path, percent=100, img_size=256, batch_size=64, num_workers=4, max_epochs=2, minimum_epochs=1, patience=1)\n",
    "obj.eval(test_data_csv_path, split_name='test', img_size=2048, batch_size=64, num_workers=4)"
   ],
   "metadata": {
    "collapsed": false
   }
  },
  {
   "cell_type": "markdown",
   "source": [
    "## MAXIM - KI67-CK-PDL1"
   ],
   "metadata": {
    "collapsed": false
   }
  },
  {
   "cell_type": "code",
   "execution_count": null,
   "outputs": [],
   "source": [
    "marker_panel = ['DAPI', 'FOXP3', 'CD4', 'CD8', 'PDL1', 'KI67', 'CK']\n",
    "input_markers = ['DAPI', 'FOXP3', 'CD4', 'CD8']\n",
    "output_markers = ['KI67']\n",
    "\n",
    "train_valid_data_csv_path = 'train_valid.csv'\n",
    "test_data_csv_path = 'test_images.csv'\n",
    "results_dir = 'KI67-CK-PDL1'\n",
    "\n",
    "# Create an instance of the Trainer class\n",
    "obj = Trainer(marker_panel=marker_panel, input_markers=input_markers, output_markers=output_markers, results_dir=results_dir, lr=0.002, seed=1)\n",
    "obj.train(train_valid_data_csv_path, percent=100, img_size=256, batch_size=64, num_workers=4, max_epochs=2, minimum_epochs=1, patience=1)\n",
    "obj.eval(test_data_csv_path, split_name='test', img_size=2048, batch_size=64, num_workers=4)"
   ],
   "metadata": {
    "collapsed": false
   }
  },
  {
   "cell_type": "markdown",
   "source": [
    "## MAXIM - KI67-CK-PDL1-DAPI"
   ],
   "metadata": {
    "collapsed": false
   }
  },
  {
   "cell_type": "code",
   "execution_count": null,
   "outputs": [],
   "source": [
    "marker_panel = ['DAPI', 'FOXP3', 'CD4', 'CD8', 'PDL1', 'KI67', 'CK']\n",
    "input_markers = ['FOXP3', 'CD4', 'CD8']\n",
    "output_markers = ['KI67']\n",
    "\n",
    "train_valid_data_csv_path = 'train_valid.csv'\n",
    "test_data_csv_path = 'test_images.csv'\n",
    "results_dir = 'KI67-CK-PDL1-DAPI'\n",
    "\n",
    "# Create an instance of the Trainer class\n",
    "obj = Trainer(marker_panel=marker_panel, input_markers=input_markers, output_markers=output_markers, results_dir=results_dir, lr=0.002, seed=1)\n",
    "obj.train(train_valid_data_csv_path, percent=100, img_size=256, batch_size=64, num_workers=4, max_epochs=2, minimum_epochs=1, patience=1)\n",
    "obj.eval(test_data_csv_path, split_name='test', img_size=2048, batch_size=64, num_workers=4)"
   ],
   "metadata": {
    "collapsed": false
   }
  },
  {
   "cell_type": "markdown",
   "source": [
    "## MAXIM - KI67-CD4"
   ],
   "metadata": {
    "collapsed": false
   }
  },
  {
   "cell_type": "code",
   "execution_count": null,
   "outputs": [],
   "source": [
    "marker_panel = ['DAPI', 'FOXP3', 'CD4', 'CD8', 'PDL1', 'KI67', 'CK']\n",
    "input_markers = ['DAPI', 'FOXP3', 'CD8', 'PDL1', 'CK']\n",
    "output_markers = ['KI67']\n",
    "\n",
    "train_valid_data_csv_path = 'train_valid.csv'\n",
    "test_data_csv_path = 'test_images.csv'\n",
    "results_dir = 'KI67-CD4'\n",
    "\n",
    "# Create an instance of the Trainer class\n",
    "obj = Trainer(marker_panel=marker_panel, input_markers=input_markers, output_markers=output_markers, results_dir=results_dir, lr=0.002, seed=1)\n",
    "obj.train(train_valid_data_csv_path, percent=100, img_size=256, batch_size=64, num_workers=4, max_epochs=2, minimum_epochs=1, patience=1)\n",
    "obj.eval(test_data_csv_path, split_name='test', img_size=2048, batch_size=64, num_workers=4)"
   ],
   "metadata": {
    "collapsed": false
   }
  },
  {
   "cell_type": "markdown",
   "source": [
    "## MAXIM - KI67-CD4-CD8"
   ],
   "metadata": {
    "collapsed": false
   }
  },
  {
   "cell_type": "code",
   "execution_count": null,
   "outputs": [],
   "source": [
    "marker_panel = ['DAPI', 'FOXP3', 'CD4', 'CD8', 'PDL1', 'KI67', 'CK']\n",
    "input_markers = ['DAPI', 'FOXP3', 'PDL1', 'CK']\n",
    "output_markers = ['KI67']\n",
    "\n",
    "train_valid_data_csv_path = 'train_valid.csv'\n",
    "test_data_csv_path = 'test_images.csv'\n",
    "results_dir = 'KI67-CD4-CD8'\n",
    "\n",
    "# Create an instance of the Trainer class\n",
    "obj = Trainer(marker_panel=marker_panel, input_markers=input_markers, output_markers=output_markers, results_dir=results_dir, lr=0.002, seed=1)\n",
    "obj.train(train_valid_data_csv_path, percent=100, img_size=256, batch_size=64, num_workers=4, max_epochs=2, minimum_epochs=1, patience=1)\n",
    "obj.eval(test_data_csv_path, split_name='test', img_size=2048, batch_size=64, num_workers=4)"
   ],
   "metadata": {
    "collapsed": false
   }
  },
  {
   "cell_type": "markdown",
   "source": [
    "## MAXIM - KI67-CD4-CD8-FOXP3"
   ],
   "metadata": {
    "collapsed": false
   }
  },
  {
   "cell_type": "code",
   "execution_count": null,
   "outputs": [],
   "source": [
    "marker_panel = ['DAPI', 'FOXP3', 'CD4', 'CD8', 'PDL1', 'KI67', 'CK']\n",
    "input_markers = ['DAPI', 'PDL1', 'CK']\n",
    "output_markers = ['KI67']\n",
    "\n",
    "train_valid_data_csv_path = 'train_valid.csv'\n",
    "test_data_csv_path = 'test_images.csv'\n",
    "results_dir = 'KI67-CD4-CD8-FOXP3'\n",
    "\n",
    "# Create an instance of the Trainer class\n",
    "obj = Trainer(marker_panel=marker_panel, input_markers=input_markers, output_markers=output_markers, results_dir=results_dir, lr=0.002, seed=1)\n",
    "obj.train(train_valid_data_csv_path, percent=100, img_size=256, batch_size=64, num_workers=4, max_epochs=2, minimum_epochs=1, patience=1)\n",
    "obj.eval(test_data_csv_path, split_name='test', img_size=2048, batch_size=64, num_workers=4)"
   ],
   "metadata": {
    "collapsed": false
   }
  },
  {
   "cell_type": "markdown",
   "source": [
    "## MAXIM - KI67-75%"
   ],
   "metadata": {
    "collapsed": false
   }
  },
  {
   "cell_type": "code",
   "execution_count": null,
   "outputs": [],
   "source": [
    "marker_panel = ['DAPI', 'FOXP3', 'CD4', 'CD8', 'PDL1', 'KI67', 'CK']\n",
    "input_markers = ['DAPI', 'FOXP3', 'CD4', 'CD8', 'PDL1', 'CK']\n",
    "output_markers = ['KI67']\n",
    "\n",
    "train_valid_data_csv_path = 'train_valid.csv'\n",
    "test_data_csv_path = 'test_images.csv'\n",
    "results_dir = 'KI67_75'\n",
    "\n",
    "# Create an instance of the Trainer class\n",
    "obj = Trainer(marker_panel=marker_panel, input_markers=input_markers, output_markers=output_markers, results_dir=results_dir, lr=0.002, seed=1)\n",
    "obj.train(train_valid_data_csv_path, percent=75, img_size=256, batch_size=64, num_workers=4, max_epochs=2, minimum_epochs=1, patience=1)\n",
    "obj.eval(test_data_csv_path, split_name='test', img_size=2048, batch_size=64, num_workers=4)"
   ],
   "metadata": {
    "collapsed": false
   }
  },
  {
   "cell_type": "markdown",
   "source": [
    "## MAXIM - KI67-50%"
   ],
   "metadata": {
    "collapsed": false
   }
  },
  {
   "cell_type": "code",
   "execution_count": null,
   "outputs": [],
   "source": [
    "marker_panel = ['DAPI', 'FOXP3', 'CD4', 'CD8', 'PDL1', 'KI67', 'CK']\n",
    "input_markers = ['DAPI', 'FOXP3', 'CD4', 'CD8', 'PDL1', 'CK']\n",
    "output_markers = ['KI67']\n",
    "\n",
    "train_valid_data_csv_path = 'train_valid.csv'\n",
    "test_data_csv_path = 'test_images.csv'\n",
    "results_dir = 'KI67_50'\n",
    "\n",
    "# Create an instance of the Trainer class\n",
    "obj = Trainer(marker_panel=marker_panel, input_markers=input_markers, output_markers=output_markers, results_dir=results_dir, lr=0.002, seed=1)\n",
    "obj.train(train_valid_data_csv_path, percent=50, img_size=256, batch_size=64, num_workers=4, max_epochs=2, minimum_epochs=1, patience=1)\n",
    "obj.eval(test_data_csv_path, split_name='test', img_size=2048, batch_size=64, num_workers=4)"
   ],
   "metadata": {
    "collapsed": false
   }
  },
  {
   "cell_type": "markdown",
   "source": [
    "## MAXIM - KI67-25%"
   ],
   "metadata": {
    "collapsed": false
   }
  },
  {
   "cell_type": "code",
   "execution_count": null,
   "outputs": [],
   "source": [
    "marker_panel = ['DAPI', 'FOXP3', 'CD4', 'CD8', 'PDL1', 'KI67', 'CK']\n",
    "input_markers = ['DAPI', 'FOXP3', 'CD4', 'CD8', 'PDL1', 'CK']\n",
    "output_markers = ['KI67']\n",
    "\n",
    "train_valid_data_csv_path = 'train_valid.csv'\n",
    "test_data_csv_path = 'test_images.csv'\n",
    "results_dir = 'KI67_25'\n",
    "\n",
    "# Create an instance of the Trainer class\n",
    "obj = Trainer(marker_panel=marker_panel, input_markers=input_markers, output_markers=output_markers, results_dir=results_dir, lr=0.002, seed=1)\n",
    "obj.train(train_valid_data_csv_path, percent=25, img_size=256, batch_size=64, num_workers=4, max_epochs=2, minimum_epochs=1, patience=1)\n",
    "obj.eval(test_data_csv_path, split_name='test', img_size=2048, batch_size=64, num_workers=4)"
   ],
   "metadata": {
    "collapsed": false
   }
  },
  {
   "cell_type": "markdown",
   "source": [
    "## MAXIM - KI67-10%"
   ],
   "metadata": {
    "collapsed": false
   }
  },
  {
   "cell_type": "code",
   "execution_count": null,
   "outputs": [],
   "source": [
    "marker_panel = ['DAPI', 'FOXP3', 'CD4', 'CD8', 'PDL1', 'KI67', 'CK']\n",
    "input_markers = ['DAPI', 'FOXP3', 'CD4', 'CD8', 'PDL1', 'CK']\n",
    "output_markers = ['KI67']\n",
    "\n",
    "train_valid_data_csv_path = 'train_valid.csv'\n",
    "test_data_csv_path = 'test_images.csv'\n",
    "results_dir = 'KI67_10'\n",
    "\n",
    "# Create an instance of the Trainer class\n",
    "obj = Trainer(marker_panel=marker_panel, input_markers=input_markers, output_markers=output_markers, results_dir=results_dir, lr=0.002, seed=1)\n",
    "obj.train(train_valid_data_csv_path, percent=10, img_size=256, batch_size=64, num_workers=4, max_epochs=2, minimum_epochs=1, patience=1)\n",
    "obj.eval(test_data_csv_path, split_name='test', img_size=2048, batch_size=64, num_workers=4)"
   ],
   "metadata": {
    "collapsed": false
   }
  }
 ],
 "metadata": {
  "kernelspec": {
   "display_name": "Python 3",
   "language": "python",
   "name": "python3"
  },
  "language_info": {
   "codemirror_mode": {
    "name": "ipython",
    "version": 2
   },
   "file_extension": ".py",
   "mimetype": "text/x-python",
   "name": "python",
   "nbconvert_exporter": "python",
   "pygments_lexer": "ipython2",
   "version": "2.7.6"
  }
 },
 "nbformat": 4,
 "nbformat_minor": 0
}
